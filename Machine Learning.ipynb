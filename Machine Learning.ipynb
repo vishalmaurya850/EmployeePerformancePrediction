{
  "nbformat": 4,
  "nbformat_minor": 0,
  "metadata": {
    "colab": {
      "provenance": []
    },
    "kernelspec": {
      "name": "python3",
      "display_name": "Python 3"
    },
    "language_info": {
      "name": "python"
    }
  },
  "cells": [
    {
      "cell_type": "code",
      "execution_count": 3,
      "metadata": {
        "id": "87vbHK1y-at1"
      },
      "outputs": [],
      "source": [
        "import pandas as pd\n",
        "import seaborn as sns\n",
        "import matplotlib.pyplot as plt\n",
        "import MultiColumnLabelEncoder\n",
        "from sklearn.model_selection import train_test_split\n",
        "from sklearn.linear_model import LinearRegression\n",
        "from sklearn.metrics import mean_squared_error\n",
        "from sklearn.metrics import r2_score\n",
        "from sklearn.metrics import mean_absolute_error\n",
        "from sklearn.ensemble import RandomForestRegressor\n",
        "import xgboost as xgb\n",
        "import pickle"
      ]
    },
    {
      "cell_type": "code",
      "source": [
        "data=pd.read_csv('/content/garments_worker_productivity.csv')\n",
        "data.head()"
      ],
      "metadata": {
        "id": "VBeoKR8G_7xa"
      },
      "execution_count": null,
      "outputs": []
    },
    {
      "cell_type": "code",
      "source": [
        "corrMatrix=data.corr()\n",
        "fig, ax= plt.subplots(figsize=(15,15))\n",
        "sns.heatmap(corrMatrix, annot=True, linewidths=0.5, ax=ax)\n",
        "plt.show()"
      ],
      "metadata": {
        "id": "Ky-_5S7oBQgI"
      },
      "execution_count": null,
      "outputs": []
    },
    {
      "cell_type": "code",
      "source": [
        "data.describe()"
      ],
      "metadata": {
        "id": "aXIBHqMUBXSD"
      },
      "execution_count": null,
      "outputs": []
    },
    {
      "cell_type": "code",
      "source": [
        "data.shape"
      ],
      "metadata": {
        "id": "d0j5Q5ycBf6d"
      },
      "execution_count": null,
      "outputs": []
    },
    {
      "cell_type": "code",
      "source": [
        "data.info()"
      ],
      "metadata": {
        "id": "O1mZSpMBBf1t"
      },
      "execution_count": null,
      "outputs": []
    },
    {
      "cell_type": "code",
      "source": [
        "data.isnull().sum()"
      ],
      "metadata": {
        "id": "xPR05KYPBzAC"
      },
      "execution_count": null,
      "outputs": []
    },
    {
      "cell_type": "code",
      "source": [
        "data.drop(['wip'],axis=1,inplace=True)"
      ],
      "metadata": {
        "id": "nIYVQjQ0CASU"
      },
      "execution_count": null,
      "outputs": []
    },
    {
      "cell_type": "code",
      "source": [
        "data['date']=pd.to_datetime(data['date'])\n",
        "data.date"
      ],
      "metadata": {
        "id": "CSw1iAvYCRy6"
      },
      "execution_count": null,
      "outputs": []
    },
    {
      "cell_type": "code",
      "source": [
        "data['month']=data['date'].dt.month\n",
        "data.drop(['date'],axis=1,inplace=True)\n",
        "data.month"
      ],
      "metadata": {
        "id": "ZKHFFNlQCcM-"
      },
      "execution_count": null,
      "outputs": []
    },
    {
      "cell_type": "code",
      "source": [
        "data['department'].value_counts()"
      ],
      "metadata": {
        "id": "rxFCyb2nGyUw"
      },
      "execution_count": null,
      "outputs": []
    },
    {
      "cell_type": "code",
      "source": [
        "data['department']=data['department'].apply(lambda x: 'finishing' if x.replace(\" \",\"\") == 'finishing' else 'sweing')\n",
        "data['department'].value_counts()"
      ],
      "metadata": {
        "id": "l8bvgZf4G5mq"
      },
      "execution_count": null,
      "outputs": []
    },
    {
      "cell_type": "code",
      "source": [
        "Mcle=MultiColumnLabelEncoder.MultiColumnLabelEncoder()\n",
        "data=Mcle.fit_transform(data)"
      ],
      "metadata": {
        "id": "fkbeMxIpHgVy"
      },
      "execution_count": null,
      "outputs": []
    },
    {
      "cell_type": "code",
      "source": [
        "x=data.drop(['actual_productivity'],axis=1)\n",
        "y=data['actual_productivity']\n",
        "X=x.to_numpy()\n",
        "X"
      ],
      "metadata": {
        "id": "qzDCDJQ7H1ux"
      },
      "execution_count": null,
      "outputs": []
    },
    {
      "cell_type": "code",
      "source": [
        "x_train,x_test,y_train,y_test=train_test_split(X,y,test_size=0.8,random_state=0)"
      ],
      "metadata": {
        "id": "7b8JQs7GINpC"
      },
      "execution_count": null,
      "outputs": []
    },
    {
      "cell_type": "code",
      "source": [
        "model_lr=LinearRegression()\n",
        "pred_test=model_lr.predict(x_test)\n",
        "print(\"test_MSE:\",mean_squared_error(y_test,pred_test))\n",
        "print(\"test_MAE:\",mean_absolute_error(y_test,pred_test))\n",
        "print(\"R2_Score:{}\".format(r2_score(y_test,pred_test)))"
      ],
      "metadata": {
        "id": "SG07Aa4uIbUj"
      },
      "execution_count": null,
      "outputs": []
    },
    {
      "cell_type": "code",
      "source": [
        "model_rf=RandomForestRegressor(n_estimators=200, max_depth=5)\n",
        "pred=model_rf.predict(x_test)\n",
        "print(\"test_MSE:\",mean_squared_error(y_test,pred))\n",
        "print(\"test_MAE:\",mean_absolute_error(y_test,pred))\n",
        "print(\"R2_Score:{}\".format(r2_score(y_test,pred)))"
      ],
      "metadata": {
        "id": "2rachPSOJNJn"
      },
      "execution_count": null,
      "outputs": []
    },
    {
      "cell_type": "code",
      "source": [
        "model_xgb = xgb.XGBRegressor(n_estimators = 200, max_depth=5,learning_rate = 0.1)\n",
        "pred3=model_xgb.predict(x_test)\n",
        "print(\"test_MSE:\",mean_squared_error(y_test,pred3))\n",
        "print(\"test_MAE:\",mean_absolute_error(y_test,pred3))\n",
        "print(\"R2_Score:{}\".format(r2_score(y_test,pred3)))"
      ],
      "metadata": {
        "id": "W0rohbTOJwLf"
      },
      "execution_count": null,
      "outputs": []
    }
  ]
}